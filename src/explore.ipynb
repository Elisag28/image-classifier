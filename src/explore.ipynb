{
    "cells": [
        {
            "cell_type": "markdown",
            "metadata": {},
            "source": [
                "# Explore here"
            ]
        },
        {
            "cell_type": "code",
            "execution_count": 2,
            "metadata": {},
            "outputs": [],
            "source": [
                "# Your code here\n",
                "import os\n",
                "from PIL import Image\n",
                "import matplotlib.pyplot as plt\n",
                "import numpy as np\n",
                "from matplotlib.image import imread\n"
            ]
        },
        {
            "cell_type": "code",
            "execution_count": 11,
            "metadata": {},
            "outputs": [
                {
                    "ename": "FileNotFoundError",
                    "evalue": "[WinError 3] El sistema no puede encontrar la ruta especificada: 'C:\\\\Users\\\\Elisa\\\\Documents\\\\Elisa\\\\Personales\\\\4Geeks Academy\\\\repos\\\\homework\\\\image-classifier\\\\data\\\\raw\\\\dogs-vs-cats\\\\train\\\\train'",
                    "output_type": "error",
                    "traceback": [
                        "\u001b[1;31m---------------------------------------------------------------------------\u001b[0m",
                        "\u001b[1;31mFileNotFoundError\u001b[0m                         Traceback (most recent call last)",
                        "Cell \u001b[1;32mIn[11], line 23\u001b[0m\n\u001b[0;32m     20\u001b[0m     plt\u001b[38;5;241m.\u001b[39mshow()\n\u001b[0;32m     22\u001b[0m \u001b[38;5;66;03m# Visualiza las primeras nueve fotos de perros\u001b[39;00m\n\u001b[1;32m---> 23\u001b[0m \u001b[43mvisualize_images\u001b[49m\u001b[43m(\u001b[49m\u001b[38;5;124;43m\"\u001b[39;49m\u001b[38;5;124;43mtrain\u001b[39;49m\u001b[38;5;124;43m\"\u001b[39;49m\u001b[43m)\u001b[49m\n",
                        "Cell \u001b[1;32mIn[11], line 12\u001b[0m, in \u001b[0;36mvisualize_images\u001b[1;34m(animal_class)\u001b[0m\n\u001b[0;32m      9\u001b[0m animal_path \u001b[38;5;241m=\u001b[39m os\u001b[38;5;241m.\u001b[39mpath\u001b[38;5;241m.\u001b[39mjoin(dataset_path, animal_class)\n\u001b[0;32m     11\u001b[0m \u001b[38;5;28;01mfor\u001b[39;00m i \u001b[38;5;129;01min\u001b[39;00m \u001b[38;5;28mrange\u001b[39m(\u001b[38;5;241m1\u001b[39m, \u001b[38;5;241m10\u001b[39m):\n\u001b[1;32m---> 12\u001b[0m     img_name \u001b[38;5;241m=\u001b[39m \u001b[43mos\u001b[49m\u001b[38;5;241;43m.\u001b[39;49m\u001b[43mlistdir\u001b[49m\u001b[43m(\u001b[49m\u001b[43manimal_path\u001b[49m\u001b[43m)\u001b[49m[i]\n\u001b[0;32m     13\u001b[0m     img_path \u001b[38;5;241m=\u001b[39m os\u001b[38;5;241m.\u001b[39mpath\u001b[38;5;241m.\u001b[39mjoin(animal_path, img_name)\n\u001b[0;32m     14\u001b[0m     img \u001b[38;5;241m=\u001b[39m Image\u001b[38;5;241m.\u001b[39mopen(img_path)\n",
                        "\u001b[1;31mFileNotFoundError\u001b[0m: [WinError 3] El sistema no puede encontrar la ruta especificada: 'C:\\\\Users\\\\Elisa\\\\Documents\\\\Elisa\\\\Personales\\\\4Geeks Academy\\\\repos\\\\homework\\\\image-classifier\\\\data\\\\raw\\\\dogs-vs-cats\\\\train\\\\train'"
                    ]
                },
                {
                    "data": {
                        "text/plain": [
                            "<Figure size 1000x1000 with 0 Axes>"
                        ]
                    },
                    "metadata": {},
                    "output_type": "display_data"
                }
            ],
            "source": [
                "\n",
                "# Ruta a la carpeta que contiene las imágenes\n",
                "dataset_path = r'C:\\Users\\Elisa\\Documents\\Elisa\\Personales\\4Geeks Academy\\repos\\homework\\image-classifier\\data\\raw\\dogs-vs-cats\\train'\n",
                "\n",
                "# Establece el tamaño fijo de las imágenes\n",
                "img_size = (200, 200)\n",
                "\n",
                "def visualize_images(animal_class):\n",
                "    plt.figure(figsize=(10, 10))\n",
                "    animal_path = os.path.join(dataset_path, animal_class)\n",
                "\n",
                "    for i in range(1, 10):\n",
                "        img_name = os.listdir(animal_path)[i]\n",
                "        img_path = os.path.join(animal_path, img_name)\n",
                "        img = Image.open(img_path)\n",
                "\n",
                "        plt.subplot(3, 3, i)\n",
                "        plt.imshow(img)\n",
                "        plt.axis(\"off\")\n",
                "\n",
                "    plt.show()\n",
                "\n",
                "# Visualiza las primeras nueve fotos de perros\n",
                "visualize_images(\"train\")\n",
                "\n"
            ]
        },
        {
            "cell_type": "code",
            "execution_count": 12,
            "metadata": {},
            "outputs": [
                {
                    "ename": "FileNotFoundError",
                    "evalue": "[WinError 3] El sistema no puede encontrar la ruta especificada: 'C:\\\\Users\\\\Elisa\\\\Documents\\\\Elisa\\\\Personales\\\\4Geeks Academy\\\\repos\\\\homework\\\\image-classifier\\\\data\\\\raw\\\\dogs-vs-cats\\\\train\\\\train'",
                    "output_type": "error",
                    "traceback": [
                        "\u001b[1;31m---------------------------------------------------------------------------\u001b[0m",
                        "\u001b[1;31mFileNotFoundError\u001b[0m                         Traceback (most recent call last)",
                        "Cell \u001b[1;32mIn[12], line 21\u001b[0m\n\u001b[0;32m     18\u001b[0m     plt\u001b[38;5;241m.\u001b[39mshow()\n\u001b[0;32m     20\u001b[0m \u001b[38;5;66;03m# Visualiza las primeras nueve fotos de perros\u001b[39;00m\n\u001b[1;32m---> 21\u001b[0m \u001b[43mvisualize_images\u001b[49m\u001b[43m(\u001b[49m\u001b[38;5;124;43m\"\u001b[39;49m\u001b[38;5;124;43mtrain\u001b[39;49m\u001b[38;5;124;43m\"\u001b[39;49m\u001b[43m)\u001b[49m\n",
                        "Cell \u001b[1;32mIn[12], line 10\u001b[0m, in \u001b[0;36mvisualize_images\u001b[1;34m(animal_class)\u001b[0m\n\u001b[0;32m      7\u001b[0m animal_path \u001b[38;5;241m=\u001b[39m os\u001b[38;5;241m.\u001b[39mpath\u001b[38;5;241m.\u001b[39mjoin(dataset_path, animal_class)\n\u001b[0;32m      9\u001b[0m \u001b[38;5;28;01mfor\u001b[39;00m i \u001b[38;5;129;01min\u001b[39;00m \u001b[38;5;28mrange\u001b[39m(\u001b[38;5;241m1\u001b[39m, \u001b[38;5;241m10\u001b[39m):\n\u001b[1;32m---> 10\u001b[0m     img_name \u001b[38;5;241m=\u001b[39m \u001b[43mos\u001b[49m\u001b[38;5;241;43m.\u001b[39;49m\u001b[43mlistdir\u001b[49m\u001b[43m(\u001b[49m\u001b[43manimal_path\u001b[49m\u001b[43m)\u001b[49m[i]\n\u001b[0;32m     11\u001b[0m     img_path \u001b[38;5;241m=\u001b[39m os\u001b[38;5;241m.\u001b[39mpath\u001b[38;5;241m.\u001b[39mjoin(animal_path, img_name)\n\u001b[0;32m     12\u001b[0m     img \u001b[38;5;241m=\u001b[39m Image\u001b[38;5;241m.\u001b[39mopen(img_path)\n",
                        "\u001b[1;31mFileNotFoundError\u001b[0m: [WinError 3] El sistema no puede encontrar la ruta especificada: 'C:\\\\Users\\\\Elisa\\\\Documents\\\\Elisa\\\\Personales\\\\4Geeks Academy\\\\repos\\\\homework\\\\image-classifier\\\\data\\\\raw\\\\dogs-vs-cats\\\\train\\\\train'"
                    ]
                },
                {
                    "data": {
                        "text/plain": [
                            "<Figure size 1000x1000 with 0 Axes>"
                        ]
                    },
                    "metadata": {},
                    "output_type": "display_data"
                }
            ],
            "source": [
                "\n",
                "# Ruta a la carpeta que contiene las imágenes\n",
                "dataset_path = r'C:\\Users\\Elisa\\Documents\\Elisa\\Personales\\4Geeks Academy\\repos\\homework\\image-classifier\\data\\raw\\dogs-vs-cats\\train'\n",
                "\n",
                "# Función para cargar e imprimir las primeras nueve fotos de perros o gatos\n",
                "def visualize_images(animal_class):\n",
                "    plt.figure(figsize=(10, 10))\n",
                "    animal_path = os.path.join(dataset_path, animal_class)\n",
                "\n",
                "    for i in range(1, 10):\n",
                "        img_name = os.listdir(animal_path)[i]\n",
                "        img_path = os.path.join(animal_path, img_name)\n",
                "        img = Image.open(img_path)\n",
                "\n",
                "        plt.subplot(3, 3, i)\n",
                "        plt.imshow(img)\n",
                "        plt.axis(\"off\")\n",
                "\n",
                "    plt.show()\n",
                "\n",
                "# Visualiza las primeras nueve fotos de perros\n",
                "visualize_images(\"train\")\n",
                "\n"
            ]
        },
        {
            "cell_type": "code",
            "execution_count": 14,
            "metadata": {},
            "outputs": [
                {
                    "ename": "FileNotFoundError",
                    "evalue": "[WinError 3] El sistema no puede encontrar la ruta especificada: 'data\\\\raw\\\\dogs-vs-cats'",
                    "output_type": "error",
                    "traceback": [
                        "\u001b[1;31m---------------------------------------------------------------------------\u001b[0m",
                        "\u001b[1;31mFileNotFoundError\u001b[0m                         Traceback (most recent call last)",
                        "Cell \u001b[1;32mIn[14], line 5\u001b[0m\n\u001b[0;32m      2\u001b[0m carpeta_imagenes \u001b[38;5;241m=\u001b[39m \u001b[38;5;124mr\u001b[39m\u001b[38;5;124m\"\u001b[39m\u001b[38;5;124mdata\u001b[39m\u001b[38;5;124m\\\u001b[39m\u001b[38;5;124mraw\u001b[39m\u001b[38;5;124m\\\u001b[39m\u001b[38;5;124mdogs-vs-cats\u001b[39m\u001b[38;5;124m\"\u001b[39m\n\u001b[0;32m      4\u001b[0m \u001b[38;5;66;03m# Obtener la lista de archivos en la carpeta\u001b[39;00m\n\u001b[1;32m----> 5\u001b[0m archivos \u001b[38;5;241m=\u001b[39m \u001b[43mos\u001b[49m\u001b[38;5;241;43m.\u001b[39;49m\u001b[43mlistdir\u001b[49m\u001b[43m(\u001b[49m\u001b[43mcarpeta_imagenes\u001b[49m\u001b[43m)\u001b[49m\n\u001b[0;32m      7\u001b[0m \u001b[38;5;66;03m# Seleccionar solo los archivos con extensiones de imagen (por ejemplo, jpg, png)\u001b[39;00m\n\u001b[0;32m      8\u001b[0m imagenes \u001b[38;5;241m=\u001b[39m [archivo \u001b[38;5;28;01mfor\u001b[39;00m archivo \u001b[38;5;129;01min\u001b[39;00m archivos \u001b[38;5;28;01mif\u001b[39;00m archivo\u001b[38;5;241m.\u001b[39mlower()\u001b[38;5;241m.\u001b[39mendswith((\u001b[38;5;124m'\u001b[39m\u001b[38;5;124m.jpg\u001b[39m\u001b[38;5;124m'\u001b[39m, \u001b[38;5;124m'\u001b[39m\u001b[38;5;124m.jpeg\u001b[39m\u001b[38;5;124m'\u001b[39m, \u001b[38;5;124m'\u001b[39m\u001b[38;5;124m.png\u001b[39m\u001b[38;5;124m'\u001b[39m))]\n",
                        "\u001b[1;31mFileNotFoundError\u001b[0m: [WinError 3] El sistema no puede encontrar la ruta especificada: 'data\\\\raw\\\\dogs-vs-cats'"
                    ]
                }
            ],
            "source": [
                "# Ruta de la carpeta que contiene las imágenes\n",
                "carpeta_imagenes = r\"data\\raw\\dogs-vs-cats\"\n",
                "\n",
                "# Obtener la lista de archivos en la carpeta\n",
                "archivos = os.listdir(carpeta_imagenes)\n",
                "\n",
                "# Seleccionar solo los archivos con extensiones de imagen (por ejemplo, jpg, png)\n",
                "imagenes = [archivo for archivo in archivos if archivo.lower().endswith(('.jpg', '.jpeg', '.png'))]\n",
                "\n",
                "# Mostrar las primeras 9 imágenes\n",
                "num_imagenes_a_mostrar = 9\n",
                "fig, axs = plt.subplots(3, 3, figsize=(10, 10))\n",
                "\n",
                "for i in range(num_imagenes_a_mostrar):\n",
                "    # Cargar la imagen\n",
                "    ruta_imagen = os.path.join(carpeta_imagenes, imagenes[i])\n",
                "    img = imread(ruta_imagen)\n",
                "\n",
                "    # Mostrar la imagen en el subplot correspondiente\n",
                "    axs[i // 3, i % 3].imshow(img)\n",
                "    axs[i // 3, i % 3].axis('off')  # Ocultar ejes\n",
                "\n",
                "plt.show()"
            ]
        }
    ],
    "metadata": {
        "kernelspec": {
            "display_name": "Python 3.8.13 64-bit ('3.8.13')",
            "language": "python",
            "name": "python3"
        },
        "language_info": {
            "codemirror_mode": {
                "name": "ipython",
                "version": 3
            },
            "file_extension": ".py",
            "mimetype": "text/x-python",
            "name": "python",
            "nbconvert_exporter": "python",
            "pygments_lexer": "ipython3",
            "version": "3.12.0"
        },
        "orig_nbformat": 4,
        "vscode": {
            "interpreter": {
                "hash": "110cc1dee26208153f2972f08a2ad52b6a56238dc66d48e87fb757ef2996db56"
            }
        }
    },
    "nbformat": 4,
    "nbformat_minor": 2
}
